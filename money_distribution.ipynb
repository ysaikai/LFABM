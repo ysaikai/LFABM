{
 "cells": [
  {
   "cell_type": "markdown",
   "metadata": {},
   "source": [
    "# Money Distribution\n",
    "\n",
    "Run a sample ABM model provided by David Masad & Jacqueline Kazil in [Mesa: An Agent-Based Modeling Framework](http://conference.scipy.org/proceedings/scipy2015/pdfs/jacqueline_kazil.pdf)."
   ]
  },
  {
   "cell_type": "code",
   "execution_count": 1,
   "metadata": {
    "collapsed": true
   },
   "outputs": [],
   "source": [
    "%matplotlib inline"
   ]
  },
  {
   "cell_type": "code",
   "execution_count": 2,
   "metadata": {
    "collapsed": true
   },
   "outputs": [],
   "source": [
    "import random\n",
    "from mesa import Model, Agent\n",
    "from mesa.time import RandomActivation\n",
    "from mesa.space import MultiGrid\n",
    "from mesa.datacollection import DataCollector\n",
    "\n",
    "class MoneyModel(Model):\n",
    "  \"\"\"A model with some number of agents.\"\"\"\n",
    "  def __init__(self, N, width, height, torus):\n",
    "    self.grid = MultiGrid(height, width, torus)\n",
    "    self.num_agents = N\n",
    "    self.schedule = RandomActivation(self)\n",
    "    self.create_agents()\n",
    "    ar = {\"Wealth\": lambda a: a.wealth}\n",
    "    self.dc = DataCollector(agent_reporters=ar)\n",
    "\n",
    "  def create_agents(self):\n",
    "    \"\"\"Method to create all the agents.\"\"\"\n",
    "    for i in range(self.num_agents):\n",
    "      a = MoneyAgent(i)\n",
    "      self.schedule.add(a)\n",
    "      x = random.randrange(self.grid.width)\n",
    "      y = random.randrange(self.grid.width)\n",
    "      self.grid.place_agent(a, (x, y))\n",
    "\n",
    "  def step(self):\n",
    "    self.dc.collect(self)\n",
    "    self.schedule.step()\n",
    "\n",
    "  def run_model(self, steps):\n",
    "    for _ in range(steps):\n",
    "      self.step()\n",
    "\n",
    "class MoneyAgent(Agent):\n",
    "  \"\"\" An agent with fixed initial wealth.\"\"\"\n",
    "  def __init__(self, unique_id):\n",
    "    self.unique_id = unique_id\n",
    "    self.wealth = 1\n",
    "\n",
    "  def move(self, model):\n",
    "    \"\"\"Take a random step.\"\"\"\n",
    "    grid = model.grid\n",
    "    x, y = self.pos\n",
    "    possible_steps = grid.get_neighborhood(pos=[x, y], moore=True, include_center=True)\n",
    "    choice = random.choice(possible_steps)\n",
    "    grid.move_agent(self, choice)\n",
    "\n",
    "  def give_money(self, model):\n",
    "    grid = model.grid\n",
    "    pos = [self.pos]\n",
    "    others = grid.get_cell_list_contents(pos)\n",
    "    if len(others) > 1:\n",
    "      other = random.choice(others)\n",
    "      other.wealth += 1\n",
    "      self.wealth -= 1\n",
    "\n",
    "  def step(self, model):\n",
    "    self.move(model)\n",
    "    if self.wealth > 0:\n",
    "      self.give_money(model)\n"
   ]
  },
  {
   "cell_type": "code",
   "execution_count": 3,
   "metadata": {
    "collapsed": false
   },
   "outputs": [
    {
     "data": {
      "text/plain": [
       "<matplotlib.axes._subplots.AxesSubplot at 0x107094470>"
      ]
     },
     "execution_count": 3,
     "metadata": {},
     "output_type": "execute_result"
    },
    {
     "data": {
      "image/png": "[encoded data removed]",
      "text/plain": [
       "<matplotlib.figure.Figure at 0x105a96240>"
      ]
     },
     "metadata": {},
     "output_type": "display_data"
    }
   ],
   "source": [
    "model = MoneyModel(100, 10, 10, True)\n",
    "model.run_model(1000)\n",
    "wealth_history = model.dc.get_agent_vars_dataframe()\n",
    "wealth_history.reset_index(inplace=True)\n",
    "wealth_history[wealth_history.Step==999].Wealth.hist(bins=range(10))"
   ]
  }
 ],
 "metadata": {
  "kernelspec": {
   "display_name": "Python 3",
   "language": "python",
   "name": "python3"
  },
  "language_info": {
   "codemirror_mode": {
    "name": "ipython",
    "version": 3
   },
   "file_extension": ".py",
   "mimetype": "text/x-python",
   "name": "python",
   "nbconvert_exporter": "python",
   "pygments_lexer": "ipython3",
   "version": "3.5.1"
  }
 },
 "nbformat": 4,
 "nbformat_minor": 0
}
