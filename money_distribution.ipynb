{
 "cells": [
  {
   "cell_type": "markdown",
   "metadata": {},
   "source": [
    "# Money Distribution\n",
    "\n",
    "Run a sample ABM model provided by David Masad & Jacqueline Kazil in [Mesa: An Agent-Based Modeling Framework](http://conference.scipy.org/proceedings/scipy2015/pdfs/jacqueline_kazil.pdf)."
   ]
  },
  {
   "cell_type": "code",
   "execution_count": 4,
   "metadata": {
    "collapsed": true
   },
   "outputs": [],
   "source": [
    "%matplotlib inline"
   ]
  },
  {
   "cell_type": "code",
   "execution_count": 5,
   "metadata": {
    "collapsed": true
   },
   "outputs": [],
   "source": [
    "import random\n",
    "from mesa import Model, Agent\n",
    "from mesa.time import RandomActivation\n",
    "from mesa.space import MultiGrid\n",
    "from mesa.datacollection import DataCollector\n",
    "\n",
    "class MoneyModel(Model):\n",
    "\t\"\"\"A model with some number of agents.\"\"\"\n",
    "\tdef __init__(self, N, width, height, torus):\n",
    "\t\tself.grid = MultiGrid(height, width, torus)\n",
    "\t\tself.num_agents = N\n",
    "\t\tself.schedule = RandomActivation(self)\n",
    "\t\tself.create_agents()\n",
    "\t\tar = {\"Wealth\": lambda a: a.wealth}\n",
    "\t\tself.dc = DataCollector(agent_reporters=ar)\n",
    "\n",
    "\tdef create_agents(self):\n",
    "\t\t\"\"\"Method to create all the agents.\"\"\"\n",
    "\t\tfor i in range(self.num_agents):\n",
    "\t\t\ta = MoneyAgent(i)\n",
    "\t\t\tself.schedule.add(a)\n",
    "\t\t\tx = random.randrange(self.grid.width)\n",
    "\t\t\ty = random.randrange(self.grid.width)\n",
    "\t\t\tself.grid.place_agent(a, (x, y))\n",
    "\n",
    "\tdef step(self):\n",
    "\t\tself.dc.collect(self)\n",
    "\t\tself.schedule.step()\n",
    "\n",
    "\tdef run_model(self, steps):\n",
    "\t\tfor _ in range(steps):\n",
    "\t\t\tself.step()\n",
    "\n",
    "class MoneyAgent(Agent):\n",
    "\t\"\"\" An agent with fixed initial wealth.\"\"\"\n",
    "\tdef __init__(self, unique_id):\n",
    "\t\tself.unique_id = unique_id\n",
    "\t\tself.wealth = 1\n",
    "\n",
    "\tdef move(self, model):\n",
    "\t\t\"\"\"Take a random step.\"\"\"\n",
    "\t\tgrid = model.grid\n",
    "\t\tx, y = self.pos\n",
    "\t\tpossible_steps = grid.get_neighborhood(pos=[x, y], moore=True, include_center=True)\n",
    "\t\tchoice = random.choice(possible_steps)\n",
    "\t\tgrid.move_agent(self, choice)\n",
    "\n",
    "\tdef give_money(self, model):\n",
    "\t\tgrid = model.grid\n",
    "\t\tpos = [self.pos]\n",
    "\t\tothers = grid.get_cell_list_contents(pos)\n",
    "\t\tif len(others) > 1:\n",
    "\t\t\tother = random.choice(others)\n",
    "\t\t\tother.wealth += 1\n",
    "\t\t\tself.wealth -= 1\n",
    "\n",
    "\tdef step(self, model):\n",
    "\t\tself.move(model)\n",
    "\t\tif self.wealth > 0:\n",
    "\t\t\tself.give_money(model)\n"
   ]
  },
  {
   "cell_type": "code",
   "execution_count": 6,
   "metadata": {
    "collapsed": false
   },
   "outputs": [
    {
     "data": {
      "text/plain": [
       "<matplotlib.axes._subplots.AxesSubplot at 0x105a83e10>"
      ]
     },
     "execution_count": 6,
     "metadata": {},
     "output_type": "execute_result"
    },
    {
     "data": {
      "image/png": "[encoded data removed]",
      "text/plain": [
       "<matplotlib.figure.Figure at 0x105a837f0>"
      ]
     },
     "metadata": {},
     "output_type": "display_data"
    }
   ],
   "source": [
    "model = MoneyModel(100, 10, 10, True)\n",
    "model.run_model(1000)\n",
    "wealth_history = model.dc.get_agent_vars_dataframe()\n",
    "wealth_history.reset_index(inplace=True)\n",
    "wealth_history[wealth_history.Step==999].Wealth.hist(bins=range(10))"
   ]
  },
  {
   "cell_type": "code",
   "execution_count": null,
   "metadata": {
    "collapsed": true
   },
   "outputs": [],
   "source": []
  }
 ],
 "metadata": {
  "kernelspec": {
   "display_name": "Python 3",
   "language": "python",
   "name": "python3"
  },
  "language_info": {
   "codemirror_mode": {
    "name": "ipython",
    "version": 3
   },
   "file_extension": ".py",
   "mimetype": "text/x-python",
   "name": "python",
   "nbconvert_exporter": "python",
   "pygments_lexer": "ipython3",
   "version": "3.5.1"
  }
 },
 "nbformat": 4,
 "nbformat_minor": 0
}
