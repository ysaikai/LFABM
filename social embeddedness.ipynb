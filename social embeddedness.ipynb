{
 "cells": [
  {
   "cell_type": "markdown",
   "metadata": {},
   "source": [
    "# A model of LFS with social embeddedness"
   ]
  },
  {
   "cell_type": "markdown",
   "metadata": {},
   "source": [
    "There are $i$th consumer and $j$th producer, where $i\\in\\{1,...,I\\}$ and $j\\in\\{1,...,J\\}$. Every variable can be indexed by $t$.\n",
    "* $e_j$: the level of social embeddedness of $j$th enterprise\n",
    "    * $e_j \\in (0,1)$\n",
    "* $M_j$: initial cash balance\n",
    "    * e.g. the saving that is used to supplement the revenue\n",
    "* $\\pi_j = q_j(p_j - ke_j) - c_j$: profit\n",
    "    * $q_j$: the number of customers (at the previous period)\n",
    "    * $c_j$: fixed costs, reflecting 1-week living expense for $j$th producer household\n",
    "        * e.g. $c_j = M_j / 26$ (assuming $M_j$ is enough for half a year)\n",
    "    * k: calibrated\n",
    "* $u_i = \\alpha_i t_j + \\beta_i e_j - \\gamma_i d_j - p_j$\n",
    "    * $t_j$: $i$'s trust in $j$; $d_j$ distance between $i$ and $j$\n",
    "* $\\Delta t_j$: a positive function of $e_j$ and $q_j$\n",
    "    * high $e_j$ $\\rightarrow$ better community\n",
    "    * high $q_j$ $\\rightarrow$ more communication or monitoring "
   ]
  },
  {
   "cell_type": "markdown",
   "metadata": {},
   "source": [
    "### Metrics"
   ]
  },
  {
   "cell_type": "markdown",
   "metadata": {},
   "source": [
    "* The number of surviving producers\n",
    "* The average $e_j$ of the surviving producers\n",
    "    * to make a room for discussing potential policy objectives, e.g. economic surplus v. community development"
   ]
  },
  {
   "cell_type": "markdown",
   "metadata": {},
   "source": [
    "### Scenarios"
   ]
  },
  {
   "cell_type": "markdown",
   "metadata": {},
   "source": [
    "* The effectiveness of one-shot cash injection (e.g. coupon)\n",
    "    * e.g. implemented by making consumers purchase twice at that period\n",
    "* Education\n",
    "    * common complaint and request from producers, who see a need for educating consumers\n",
    "    * e.g. increasing $\\beta$"
   ]
  }
 ],
 "metadata": {
  "kernelspec": {
   "display_name": "Python 3",
   "language": "python",
   "name": "python3"
  },
  "language_info": {
   "codemirror_mode": {
    "name": "ipython",
    "version": 3
   },
   "file_extension": ".py",
   "mimetype": "text/x-python",
   "name": "python",
   "nbconvert_exporter": "python",
   "pygments_lexer": "ipython3",
   "version": "3.5.1"
  }
 },
 "nbformat": 4,
 "nbformat_minor": 0
}
